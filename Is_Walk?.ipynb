{
  "nbformat": 4,
  "nbformat_minor": 0,
  "metadata": {
    "colab": {
      "name": "Is_Walk?.ipynb",
      "provenance": [],
      "authorship_tag": "ABX9TyMaIKd/DN83hB2ok23A1CX1",
      "include_colab_link": true
    },
    "kernelspec": {
      "name": "python3",
      "display_name": "Python 3"
    }
  },
  "cells": [
    {
      "cell_type": "markdown",
      "metadata": {
        "id": "view-in-github",
        "colab_type": "text"
      },
      "source": [
        "<a href=\"https://colab.research.google.com/github/MangoSomewhere/Code-Challenge-Is_Walk/blob/main/Is_Walk%3F.ipynb\" target=\"_parent\"><img src=\"https://colab.research.google.com/assets/colab-badge.svg\" alt=\"Open In Colab\"/></a>"
      ]
    },
    {
      "cell_type": "code",
      "metadata": {
        "id": "DNtV8KMWgLGB",
        "outputId": "0b12c1b7-fb60-45f1-c003-1f93abb7a639",
        "colab": {
          "base_uri": "https://localhost:8080/",
          "height": 34
        }
      },
      "source": [
        "# This is a test instruction\n",
        "walk = ['n','n','n','s','n','s','n','s','n','s']\n",
        "\n",
        "def is_valid_walk(walk):\n",
        "  \n",
        "  # creates the starting position of the person\n",
        "  x = 0 \n",
        "  y = 0\n",
        "  pos = [x ,y]\n",
        "  # measuring the distance of the walk \n",
        "  dur = len(walk)\n",
        "  # distance must be exactly 10 minutes\n",
        "  if dur > 10: \n",
        "    return False\n",
        "  if dur < 10:\n",
        "    return False \n",
        "\n",
        "  # if distance requirement satisfied, add up the directions to the starting \n",
        "  if dur == 10:\n",
        "    \n",
        "    # specific characters add coordinates to our position\n",
        "    for i in walk:\n",
        "      if i is 'n':\n",
        "        y += 1\n",
        "      if i is 's':\n",
        "        y -= 1 \n",
        "      if i is 'w':\n",
        "        x -= 1 \n",
        "      if i is 'e':\n",
        "        x += 1 \n",
        "    # validates that position equates to starting position\n",
        "    if x or y == 0:\n",
        "      return True \n",
        "    else: \n",
        "      return False \n",
        "\n",
        "is_valid_walk(walk)\n"
      ],
      "execution_count": null,
      "outputs": [
        {
          "output_type": "execute_result",
          "data": {
            "text/plain": [
              "False"
            ]
          },
          "metadata": {
            "tags": []
          },
          "execution_count": 12
        }
      ]
    }
  ]
}